{
 "cells": [
  {
   "cell_type": "code",
   "execution_count": 1,
   "metadata": {},
   "outputs": [],
   "source": [
    "# importing dependencies\n",
    "import pandas as pd\n",
    "from ipyleaflet import Map, Marker, Heatmap, basemaps, LayerGroup, CircleMarker, LegendControl\n",
    "import folium"
   ]
  },
  {
   "cell_type": "code",
   "execution_count": 2,
   "metadata": {},
   "outputs": [],
   "source": [
    "# loading the dataset\n",
    "df = pd.read_csv('Resources/volcano-events.csv')"
   ]
  },
  {
   "cell_type": "code",
   "execution_count": 3,
   "metadata": {},
   "outputs": [
    {
     "name": "stderr",
     "output_type": "stream",
     "text": [
      "C:\\Users\\mcayt\\AppData\\Local\\Temp\\ipykernel_376\\2015854451.py:10: SettingWithCopyWarning: \n",
      "A value is trying to be set on a copy of a slice from a DataFrame\n",
      "\n",
      "See the caveats in the documentation: https://pandas.pydata.org/pandas-docs/stable/user_guide/indexing.html#returning-a-view-versus-a-copy\n",
      "  df_clean.fillna({'Total Deaths': 0, 'Total Damage ($Mil)': 0, 'Total Houses Destroyed': 0}, inplace=True)\n"
     ]
    }
   ],
   "source": [
    "# cleaning the data\n",
    "    # selecting the columns of interest\n",
    "columns_of_interest = ['Latitude', 'Longitude', 'VEI', 'Total Deaths', 'Total Damage ($Mil)', 'Total Houses Destroyed']\n",
    "df_filtered = df[columns_of_interest]\n",
    "\n",
    "    # drop rows with missing values to ensure data integrity for visualization\n",
    "df_clean = df_filtered.dropna(subset=['Latitude', 'Longitude', 'VEI'])\n",
    "\n",
    "    # filling missing values with 0 instead of NaN\n",
    "df_clean.fillna({'Total Deaths': 0, 'Total Damage ($Mil)': 0, 'Total Houses Destroyed': 0}, inplace=True)"
   ]
  },
  {
   "cell_type": "code",
   "execution_count": 4,
   "metadata": {},
   "outputs": [
    {
     "data": {
      "application/vnd.jupyter.widget-view+json": {
       "model_id": "ad1cc4aeeb1f4dc195ebd40456287ef4",
       "version_major": 2,
       "version_minor": 0
      },
      "text/plain": [
       "Map(center=[0, 0], controls=(ZoomControl(options=['position', 'zoom_in_text', 'zoom_in_title', 'zoom_out_text'…"
      ]
     },
     "execution_count": 4,
     "metadata": {},
     "output_type": "execute_result"
    }
   ],
   "source": [
    "# initial work on the map\n",
    "\n",
    "    # creating the map and centering it\n",
    "m = Map(center=(0, 0), zoom=2, basemap=basemaps.Esri.WorldImagery)\n",
    "\n",
    "    # adding markers for volcanoes\n",
    "for index, row in df_clean.iterrows():\n",
    "    marker = Marker(location=(row['Latitude'], row['Longitude']), draggable=False)\n",
    "    m.add_layer(marker)\n",
    "\n",
    "    # data for heatmap\n",
    "heatmap_data = df_clean[['Latitude', 'Longitude', 'VEI']].values.tolist()\n",
    "\n",
    "    # creating a heatmap layer\n",
    "heatmap_layer = Heatmap(locations=heatmap_data, radius=20, blur=20, max_zoom=17)\n",
    "\n",
    "    # adding the heatmap layer on the map\n",
    "m.add_layer(heatmap_layer)\n",
    "\n",
    "# display the map\n",
    "m"
   ]
  },
  {
   "cell_type": "code",
   "execution_count": 5,
   "metadata": {},
   "outputs": [
    {
     "data": {
      "application/vnd.jupyter.widget-view+json": {
       "model_id": "ad1cc4aeeb1f4dc195ebd40456287ef4",
       "version_major": 2,
       "version_minor": 0
      },
      "text/plain": [
       "Map(center=[0, 0], controls=(ZoomControl(options=['position', 'zoom_in_text', 'zoom_in_title', 'zoom_out_text'…"
      ]
     },
     "execution_count": 5,
     "metadata": {},
     "output_type": "execute_result"
    }
   ],
   "source": [
    "# work on data visualization\n",
    "\n",
    "    # adjusting marker color per VEI\n",
    "def get_marker_color(vei):\n",
    "    if vei < 2:\n",
    "        return \"green\"\n",
    "    elif vei < 4:\n",
    "        return \"yellow\"\n",
    "    elif vei < 5:\n",
    "        return \"orange\"\n",
    "    else:\n",
    "        return \"red\"\n",
    "\n",
    "# adjusting marker size per deaths\n",
    "def get_marker_size(deaths):\n",
    "    if deaths < 10:\n",
    "        return 5 \n",
    "    elif deaths < 100:\n",
    "        return 7\n",
    "    else:\n",
    "        return 10\n",
    "\n",
    "# adding markers onto the map\n",
    "for index, row in df_clean.iterrows():\n",
    "    marker = CircleMarker(\n",
    "        location=(row['Latitude'], row['Longitude']),\n",
    "        radius=get_marker_size(row['Total Deaths']),\n",
    "        color=get_marker_color(row['VEI']),\n",
    "        fill_color=get_marker_color(row['VEI']),\n",
    "        fill_opacity=0.8\n",
    "    )\n",
    "    m.add_layer(marker)\n",
    "\n",
    "# adding a legend to the map\n",
    "legend = LegendControl({\"Low VEI (<2)\": \"green\", \"Medium VEI (2-3)\": \"yellow\", \"High VEI (4)\": \"orange\", \"Very High VEI (>4)\": \"red\"}, name=\"VEI Scale\", position=\"bottomright\")\n",
    "m.add_control(legend)\n",
    "\n",
    "# display the map\n",
    "m\n"
   ]
  }
 ],
 "metadata": {
  "kernelspec": {
   "display_name": "base",
   "language": "python",
   "name": "python3"
  },
  "language_info": {
   "codemirror_mode": {
    "name": "ipython",
    "version": 3
   },
   "file_extension": ".py",
   "mimetype": "text/x-python",
   "name": "python",
   "nbconvert_exporter": "python",
   "pygments_lexer": "ipython3",
   "version": "3.11.5"
  }
 },
 "nbformat": 4,
 "nbformat_minor": 2
}
