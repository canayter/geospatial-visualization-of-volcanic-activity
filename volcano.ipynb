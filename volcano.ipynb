{
 "cells": [
  {
   "cell_type": "code",
   "execution_count": 6,
   "metadata": {},
   "outputs": [],
   "source": [
    "### importing dependencies\n",
    "\n",
    "import pandas as pd\n",
    "import folium\n",
    "from folium.plugins import HeatMap"
   ]
  },
  {
   "cell_type": "code",
   "execution_count": 7,
   "metadata": {},
   "outputs": [],
   "source": [
    "### loading the dataset\n",
    "\n",
    "df = pd.read_csv('Resources/volcano-events.csv')"
   ]
  },
  {
   "cell_type": "code",
   "execution_count": 8,
   "metadata": {},
   "outputs": [
    {
     "name": "stderr",
     "output_type": "stream",
     "text": [
      "C:\\Users\\mcayt\\AppData\\Local\\Temp\\ipykernel_36804\\3042257367.py:11: SettingWithCopyWarning: \n",
      "A value is trying to be set on a copy of a slice from a DataFrame\n",
      "\n",
      "See the caveats in the documentation: https://pandas.pydata.org/pandas-docs/stable/user_guide/indexing.html#returning-a-view-versus-a-copy\n",
      "  df_clean.fillna({'Total Deaths': 0, 'Total Damage ($Mil)': 0, 'Total Houses Destroyed': 0}, inplace=True)\n"
     ]
    }
   ],
   "source": [
    "### cleaning the data\n",
    "\n",
    "    # selecting the columns of interest\n",
    "columns_of_interest = ['Year', 'Latitude', 'Longitude', 'VEI', 'Total Deaths', 'Total Damage ($Mil)', 'Total Houses Destroyed']\n",
    "df_filtered = df[columns_of_interest]\n",
    "\n",
    "    # drop rows with missing values to ensure data integrity for visualization\n",
    "df_clean = df_filtered.dropna(subset=['Latitude', 'Longitude', 'VEI', 'Year'])\n",
    "\n",
    "    # filling missing values with 0 instead of NaN\n",
    "df_clean.fillna({'Total Deaths': 0, 'Total Damage ($Mil)': 0, 'Total Houses Destroyed': 0}, inplace=True)"
   ]
  },
  {
   "cell_type": "code",
   "execution_count": 9,
   "metadata": {},
   "outputs": [],
   "source": [
    "### initial work on the map\n",
    "\n",
    "    # creating the map and centering it\n",
    "center_lat = df_clean['Latitude'].mean()\n",
    "center_lon = df_clean['Longitude'].mean()\n",
    "folium_map = folium.Map(location=[center_lat, center_lon], zoom_start=2)\n",
    "\n"
   ]
  },
  {
   "cell_type": "code",
   "execution_count": 10,
   "metadata": {},
   "outputs": [
    {
     "data": {
      "text/plain": [
       "<folium.map.FeatureGroup at 0x1b435297c90>"
      ]
     },
     "execution_count": 10,
     "metadata": {},
     "output_type": "execute_result"
    }
   ],
   "source": [
    "### work on data visualization\n",
    "\n",
    "    # adding a layer for VEI\n",
    "vei_layer = folium.FeatureGroup(name='Volcanic Explosivity Index (VEI)')\n",
    "for index, row in df_clean.iterrows():\n",
    "    folium.CircleMarker([row['Latitude'], row['Longitude']],\n",
    "                        radius=5,\n",
    "                        color='blue',\n",
    "                        fill=True,\n",
    "                        fill_color='blue',\n",
    "                        fill_opacity=0.6,\n",
    "                        popup=f\"VEI: {row['VEI']}\").add_to(vei_layer)\n",
    "vei_layer.add_to(folium_map)"
   ]
  },
  {
   "cell_type": "code",
   "execution_count": 11,
   "metadata": {},
   "outputs": [
    {
     "data": {
      "text/plain": [
       "<folium.map.FeatureGroup at 0x1b4354afc90>"
      ]
     },
     "execution_count": 11,
     "metadata": {},
     "output_type": "execute_result"
    }
   ],
   "source": [
    "### work on data visualization\n",
    "\n",
    "    # adding a layer for damage\n",
    "damage_layer = folium.FeatureGroup(name='Total Damage ($Mil)')\n",
    "for index, row in df_clean.iterrows():\n",
    "    if row['Total Damage ($Mil)'] > 0:  # Only display markers for events with damage\n",
    "        folium.CircleMarker([row['Latitude'], row['Longitude']],\n",
    "                            radius=5,\n",
    "                            color='red',\n",
    "                            fill=True,\n",
    "                            fill_color='red',\n",
    "                            fill_opacity=0.6,\n",
    "                            popup=f\"Damage: ${row['Total Damage ($Mil)']} million\").add_to(damage_layer)\n",
    "damage_layer.add_to(folium_map)"
   ]
  },
  {
   "cell_type": "code",
   "execution_count": 12,
   "metadata": {},
   "outputs": [
    {
     "data": {
      "text/plain": [
       "<folium.map.FeatureGroup at 0x1b4352eea50>"
      ]
     },
     "execution_count": 12,
     "metadata": {},
     "output_type": "execute_result"
    }
   ],
   "source": [
    "### work on data visualization\n",
    "\n",
    "    # adding a layer for deaths\n",
    "deaths_layer = folium.FeatureGroup(name='Total Deaths')\n",
    "for index, row in df_clean.iterrows():\n",
    "    if row['Total Deaths'] > 0:  # Only display markers for events with deaths\n",
    "        folium.CircleMarker([row['Latitude'], row['Longitude']],\n",
    "                            radius=5,\n",
    "                            color='black',\n",
    "                            fill=True,\n",
    "                            fill_color='black',\n",
    "                            fill_opacity=0.6,\n",
    "                            popup=f\"Deaths: {row['Total Deaths']}\").add_to(deaths_layer)\n",
    "deaths_layer.add_to(folium_map)"
   ]
  },
  {
   "cell_type": "code",
   "execution_count": 13,
   "metadata": {},
   "outputs": [
    {
     "data": {
      "text/plain": [
       "<folium.map.FeatureGroup at 0x1b435707c90>"
      ]
     },
     "execution_count": 13,
     "metadata": {},
     "output_type": "execute_result"
    }
   ],
   "source": [
    "### work on data visualization\n",
    "\n",
    "    # adding a layer for recency\n",
    "        # calculating recency based on the most recent year in the dataset\n",
    "current_year = df_clean['Year'].max()\n",
    "recency_layer = folium.FeatureGroup(name='Recency')\n",
    "for index, row in df_clean.iterrows():\n",
    "    years_since_event = current_year - row['Year']\n",
    "    folium.CircleMarker([row['Latitude'], row['Longitude']],\n",
    "                        radius=5,\n",
    "                        color='green',\n",
    "                        fill=True,\n",
    "                        fill_color='green',\n",
    "                        fill_opacity=0.6,\n",
    "                        popup=f\"Years since event: {years_since_event}\").add_to(recency_layer)\n",
    "recency_layer.add_to(folium_map)"
   ]
  },
  {
   "cell_type": "code",
   "execution_count": 14,
   "metadata": {},
   "outputs": [
    {
     "data": {
      "text/plain": [
       "<folium.map.LayerControl at 0x1b4356f0250>"
      ]
     },
     "execution_count": 14,
     "metadata": {},
     "output_type": "execute_result"
    }
   ],
   "source": [
    "### work on data visualization\n",
    "\n",
    "    # option to toggle between layers\n",
    "folium.LayerControl().add_to(folium_map)"
   ]
  },
  {
   "cell_type": "code",
   "execution_count": 15,
   "metadata": {},
   "outputs": [
    {
     "data": {
      "text/plain": [
       "'volcano_map_with_layers.html'"
      ]
     },
     "execution_count": 15,
     "metadata": {},
     "output_type": "execute_result"
    }
   ],
   "source": [
    "### saving the map to an HTML file\n",
    "full_map_path = 'volcano_map_with_layers.html'\n",
    "folium_map.save(full_map_path)\n",
    "\n",
    "full_map_path"
   ]
  }
 ],
 "metadata": {
  "kernelspec": {
   "display_name": "base",
   "language": "python",
   "name": "python3"
  },
  "language_info": {
   "codemirror_mode": {
    "name": "ipython",
    "version": 3
   },
   "file_extension": ".py",
   "mimetype": "text/x-python",
   "name": "python",
   "nbconvert_exporter": "python",
   "pygments_lexer": "ipython3",
   "version": "3.11.5"
  }
 },
 "nbformat": 4,
 "nbformat_minor": 2
}
